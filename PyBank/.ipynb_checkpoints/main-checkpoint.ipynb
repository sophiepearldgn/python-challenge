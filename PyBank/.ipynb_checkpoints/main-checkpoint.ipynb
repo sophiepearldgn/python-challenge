{
 "cells": [
  {
   "cell_type": "code",
   "execution_count": 1,
   "id": "980a289a-317b-42de-a16d-aedc31f68b05",
   "metadata": {},
   "outputs": [],
   "source": [
    "import pandas as pd\n",
    "from pathlib import Path"
   ]
  },
  {
   "cell_type": "code",
   "execution_count": 2,
   "id": "e8e310fd-55ed-4a1a-b4ad-6b411a2a066f",
   "metadata": {},
   "outputs": [],
   "source": [
    "budget_data_csv = Path(\"Resources/budget_data.csv\") \n",
    "budget_data_df = pd.read_csv(budget_data_csv)\n"
   ]
  },
  {
   "cell_type": "code",
   "execution_count": 3,
   "id": "d667ec19-847b-4254-a8a1-6004bbe244d3",
   "metadata": {},
   "outputs": [
    {
     "data": {
      "text/html": [
       "<div>\n",
       "<style scoped>\n",
       "    .dataframe tbody tr th:only-of-type {\n",
       "        vertical-align: middle;\n",
       "    }\n",
       "\n",
       "    .dataframe tbody tr th {\n",
       "        vertical-align: top;\n",
       "    }\n",
       "\n",
       "    .dataframe thead th {\n",
       "        text-align: right;\n",
       "    }\n",
       "</style>\n",
       "<table border=\"1\" class=\"dataframe\">\n",
       "  <thead>\n",
       "    <tr style=\"text-align: right;\">\n",
       "      <th></th>\n",
       "      <th>Date</th>\n",
       "      <th>Profit/Losses</th>\n",
       "    </tr>\n",
       "  </thead>\n",
       "  <tbody>\n",
       "    <tr>\n",
       "      <th>0</th>\n",
       "      <td>Jan-2010</td>\n",
       "      <td>867884</td>\n",
       "    </tr>\n",
       "    <tr>\n",
       "      <th>1</th>\n",
       "      <td>Feb-2010</td>\n",
       "      <td>984655</td>\n",
       "    </tr>\n",
       "    <tr>\n",
       "      <th>2</th>\n",
       "      <td>Mar-2010</td>\n",
       "      <td>322013</td>\n",
       "    </tr>\n",
       "    <tr>\n",
       "      <th>3</th>\n",
       "      <td>Apr-2010</td>\n",
       "      <td>-69417</td>\n",
       "    </tr>\n",
       "    <tr>\n",
       "      <th>4</th>\n",
       "      <td>May-2010</td>\n",
       "      <td>310503</td>\n",
       "    </tr>\n",
       "    <tr>\n",
       "      <th>...</th>\n",
       "      <td>...</td>\n",
       "      <td>...</td>\n",
       "    </tr>\n",
       "    <tr>\n",
       "      <th>81</th>\n",
       "      <td>Oct-2016</td>\n",
       "      <td>102685</td>\n",
       "    </tr>\n",
       "    <tr>\n",
       "      <th>82</th>\n",
       "      <td>Nov-2016</td>\n",
       "      <td>795914</td>\n",
       "    </tr>\n",
       "    <tr>\n",
       "      <th>83</th>\n",
       "      <td>Dec-2016</td>\n",
       "      <td>60988</td>\n",
       "    </tr>\n",
       "    <tr>\n",
       "      <th>84</th>\n",
       "      <td>Jan-2017</td>\n",
       "      <td>138230</td>\n",
       "    </tr>\n",
       "    <tr>\n",
       "      <th>85</th>\n",
       "      <td>Feb-2017</td>\n",
       "      <td>671099</td>\n",
       "    </tr>\n",
       "  </tbody>\n",
       "</table>\n",
       "<p>86 rows × 2 columns</p>\n",
       "</div>"
      ],
      "text/plain": [
       "        Date  Profit/Losses\n",
       "0   Jan-2010         867884\n",
       "1   Feb-2010         984655\n",
       "2   Mar-2010         322013\n",
       "3   Apr-2010         -69417\n",
       "4   May-2010         310503\n",
       "..       ...            ...\n",
       "81  Oct-2016         102685\n",
       "82  Nov-2016         795914\n",
       "83  Dec-2016          60988\n",
       "84  Jan-2017         138230\n",
       "85  Feb-2017         671099\n",
       "\n",
       "[86 rows x 2 columns]"
      ]
     },
     "execution_count": 3,
     "metadata": {},
     "output_type": "execute_result"
    }
   ],
   "source": [
    "budget_data_df"
   ]
  },
  {
   "cell_type": "code",
   "execution_count": 4,
   "id": "02b928ef-1db2-481c-819e-9b1e05d1eb6a",
   "metadata": {},
   "outputs": [
    {
     "name": "stdout",
     "output_type": "stream",
     "text": [
      "        Date  Profit/Losses\n",
      "0   Jan-2010         867884\n",
      "1   Feb-2010         984655\n",
      "2   Mar-2010         322013\n",
      "3   Apr-2010         -69417\n",
      "4   May-2010         310503\n",
      "..       ...            ...\n",
      "81  Oct-2016         102685\n",
      "82  Nov-2016         795914\n",
      "83  Dec-2016          60988\n",
      "84  Jan-2017         138230\n",
      "85  Feb-2017         671099\n",
      "\n",
      "[86 rows x 2 columns]\n"
     ]
    }
   ],
   "source": [
    "print(budget_data_df)"
   ]
  },
  {
   "cell_type": "code",
   "execution_count": 5,
   "id": "03982885-45a0-4ced-b1f1-0dc89451de5f",
   "metadata": {},
   "outputs": [
    {
     "name": "stdout",
     "output_type": "stream",
     "text": [
      "[867884, 984655, 322013, -69417, 310503, 522857, 1033096, 604885, -216386, 477532, 893810, -80353, 779806, -335203, 697845, 793163, 485070, 584122, 62729, 668179, 899906, 834719, 132003, 309978, -755566, 1170593, 252788, 1151518, 817256, 570757, 506702, -1022534, 475062, 779976, 144175, 542494, 359333, 321469, 67780, 471435, 565603, 872480, 789480, 999942, -1196225, 268997, -687986, 1150461, 682458, 617856, 824098, 581943, 132864, 448062, 689161, 800701, 1166643, 947333, 578668, 988505, 1139715, 1029471, 687533, -524626, 158620, 87795, 423389, 840723, 568529, 332067, 989499, 778237, 650000, -1100387, -174946, 757143, 445709, 712961, -1163797, 569899, 768450, 102685, 795914, 60988, 138230, 671099]\n"
     ]
    }
   ],
   "source": [
    "profit_losses = list(budget_data_df[\"Profit/Losses\"])\n",
    "print(profit_losses)"
   ]
  },
  {
   "cell_type": "code",
   "execution_count": 6,
   "id": "f747d1b2-7444-49a7-9e96-b837b5b98aa2",
   "metadata": {},
   "outputs": [
    {
     "name": "stdout",
     "output_type": "stream",
     "text": [
      "['Jan-2010', 'Feb-2010', 'Mar-2010', 'Apr-2010', 'May-2010', 'Jun-2010', 'Jul-2010', 'Aug-2010', 'Sep-2010', 'Oct-2010', 'Nov-2010', 'Dec-2010', 'Jan-2011', 'Feb-2011', 'Mar-2011', 'Apr-2011', 'May-2011', 'Jun-2011', 'Jul-2011', 'Aug-2011', 'Sep-2011', 'Oct-2011', 'Nov-2011', 'Dec-2011', 'Jan-2012', 'Feb-2012', 'Mar-2012', 'Apr-2012', 'May-2012', 'Jun-2012', 'Jul-2012', 'Aug-2012', 'Sep-2012', 'Oct-2012', 'Nov-2012', 'Dec-2012', 'Jan-2013', 'Feb-2013', 'Mar-2013', 'Apr-2013', 'May-2013', 'Jun-2013', 'Jul-2013', 'Aug-2013', 'Sep-2013', 'Oct-2013', 'Nov-2013', 'Dec-2013', 'Jan-2014', 'Feb-2014', 'Mar-2014', 'Apr-2014', 'May-2014', 'Jun-2014', 'Jul-2014', 'Aug-2014', 'Sep-2014', 'Oct-2014', 'Nov-2014', 'Dec-2014', 'Jan-2015', 'Feb-2015', 'Mar-2015', 'Apr-2015', 'May-2015', 'Jun-2015', 'Jul-2015', 'Aug-2015', 'Sep-2015', 'Oct-2015', 'Nov-2015', 'Dec-2015', 'Jan-2016', 'Feb-2016', 'Mar-2016', 'Apr-2016', 'May-2016', 'Jun-2016', 'Jul-2016', 'Aug-2016', 'Sep-2016', 'Oct-2016', 'Nov-2016', 'Dec-2016', 'Jan-2017', 'Feb-2017']\n"
     ]
    }
   ],
   "source": [
    "date = list(budget_data_df[\"Date\"])\n",
    "print(date)"
   ]
  },
  {
   "cell_type": "markdown",
   "id": "ad8d0c9f-b890-43a4-af15-5f5167138d25",
   "metadata": {},
   "source": [
    "# The total number of months included in the dataset"
   ]
  },
  {
   "cell_type": "code",
   "execution_count": 7,
   "id": "cfd6c31c-d950-4b25-82e5-81540ed69731",
   "metadata": {},
   "outputs": [
    {
     "name": "stdout",
     "output_type": "stream",
     "text": [
      "Total Months: 85\n"
     ]
    }
   ],
   "source": [
    "# not including the column header\n",
    "print(f\"Total Months: {len(budget_data_df)-1}\")"
   ]
  },
  {
   "cell_type": "markdown",
   "id": "e73ec2fb-570a-43b4-b440-1997b934a0c7",
   "metadata": {},
   "source": [
    "# The net total amount of Profit/Losses over the entire period"
   ]
  },
  {
   "cell_type": "code",
   "execution_count": 8,
   "id": "b26abdd8-816d-4245-9e82-441c35163f81",
   "metadata": {},
   "outputs": [
    {
     "name": "stdout",
     "output_type": "stream",
     "text": [
      "[867884, 984655, 322013, -69417, 310503, 522857, 1033096, 604885, -216386, 477532, 893810, -80353, 779806, -335203, 697845, 793163, 485070, 584122, 62729, 668179, 899906, 834719, 132003, 309978, -755566, 1170593, 252788, 1151518, 817256, 570757, 506702, -1022534, 475062, 779976, 144175, 542494, 359333, 321469, 67780, 471435, 565603, 872480, 789480, 999942, -1196225, 268997, -687986, 1150461, 682458, 617856, 824098, 581943, 132864, 448062, 689161, 800701, 1166643, 947333, 578668, 988505, 1139715, 1029471, 687533, -524626, 158620, 87795, 423389, 840723, 568529, 332067, 989499, 778237, 650000, -1100387, -174946, 757143, 445709, 712961, -1163797, 569899, 768450, 102685, 795914, 60988, 138230, 671099]\n"
     ]
    }
   ],
   "source": [
    "profit_losses = list(budget_data_df[\"Profit/Losses\"])\n",
    "print(profit_losses)"
   ]
  },
  {
   "cell_type": "code",
   "execution_count": 9,
   "id": "1e42cd1d-36c0-4b15-b4fa-e73a6efcfc83",
   "metadata": {},
   "outputs": [
    {
     "name": "stdout",
     "output_type": "stream",
     "text": [
      " Net Total Amount of Profit/Losses over the entire period: \n",
      " $38382578\n"
     ]
    }
   ],
   "source": [
    "sum_profit = 0\n",
    "\n",
    "for x in budget_data_df[\"Profit/Losses\"]:\n",
    "    sum_profit += x\n",
    "print(f\" Net Total Amount of Profit/Losses over the entire period: \\n ${sum_profit}\")"
   ]
  },
  {
   "cell_type": "code",
   "execution_count": 10,
   "id": "3ab25983-d41b-417e-90b2-244f59b35f59",
   "metadata": {},
   "outputs": [
    {
     "data": {
      "text/plain": [
       "38382578"
      ]
     },
     "execution_count": 10,
     "metadata": {},
     "output_type": "execute_result"
    }
   ],
   "source": [
    "sum_profit = 0\n",
    "\n",
    "for x in budget_data_df[\"Profit/Losses\"]:\n",
    "    sum_profit += x\n",
    "sum_profit"
   ]
  },
  {
   "cell_type": "code",
   "execution_count": 11,
   "id": "2f7bfa5e-c5ec-4838-9909-28c39d1fa02c",
   "metadata": {},
   "outputs": [
    {
     "data": {
      "text/plain": [
       "Date             object\n",
       "Profit/Losses     int64\n",
       "dtype: object"
      ]
     },
     "execution_count": 11,
     "metadata": {},
     "output_type": "execute_result"
    }
   ],
   "source": [
    "budget_data_df.dtypes"
   ]
  },
  {
   "cell_type": "markdown",
   "id": "20d61c38-00eb-4235-87d3-3a201002a8e4",
   "metadata": {},
   "source": [
    "# The average of the changes in Profit/Losses over the entire period"
   ]
  },
  {
   "cell_type": "code",
   "execution_count": 13,
   "id": "40887743-33ea-40bd-8144-67dfb1c4662c",
   "metadata": {},
   "outputs": [
    {
     "data": {
      "text/plain": [
       "86"
      ]
     },
     "execution_count": 13,
     "metadata": {},
     "output_type": "execute_result"
    }
   ],
   "source": [
    "profit_losses = list(budget_data_df[\"Profit/Losses\"])\n",
    "len(profit_losses)"
   ]
  },
  {
   "cell_type": "code",
   "execution_count": 41,
   "id": "1a51584a-449b-40b4-a44a-db4f0e5cebd9",
   "metadata": {},
   "outputs": [
    {
     "name": "stdout",
     "output_type": "stream",
     "text": [
      "[-662642, -391430, 379920, 212354, 510239, -428211, -821271, 693918, 416278, -974163, 860159, -1115009, 1033048, 95318, -308093, 99052, -521393, 605450, 231727, -65187, -702716, 177975, -1065544, 1926159, -917805, 898730, -334262, -246499, -64055, -1529236, 1497596, 304914, -635801, 398319, -183161, -37864, -253689, 403655, 94168, 306877, -83000, 210462, -2196167, 1465222, -956983, 1838447, -468003, -64602, 206242, -242155, -449079, 315198, 241099, 111540, 365942, -219310, -368665, 409837, 151210, -110244, -341938, -1212159, 683246, -70825, 335594, 417334, -272194, -236462, 657432, -211262, -128237, -1750387, 925441, 932089, -311434, 267252, -1876758, 1733696, 198551, -665765, 693229, -734926, 77242, 532869]\n"
     ]
    }
   ],
   "source": [
    "#create a list with the changes in profit/losses month by month\n",
    "profit_losses = list(budget_data_df[\"Profit/Losses\"])\n",
    "\n",
    "def get_changes(profit) :\n",
    "    changes = []\n",
    "\n",
    "    for n in range (1, len(profit_losses)-1):\n",
    "        prev_numbers = profit_losses[n]  #call elements in list with square brackets\n",
    "        current_num = profit_losses[n+1]\n",
    "        change =  current_num - prev_numbers\n",
    "        changes.append(change)\n",
    "    return changes\n",
    "\n",
    "revenue_change = get_changes(profit_losses)\n",
    "print(revenue_change)"
   ]
  },
  {
   "cell_type": "code",
   "execution_count": 42,
   "id": "5a066a4f-35db-485b-8f02-e2ddd8642d86",
   "metadata": {},
   "outputs": [
    {
     "data": {
      "text/plain": [
       "-313556"
      ]
     },
     "execution_count": 42,
     "metadata": {},
     "output_type": "execute_result"
    }
   ],
   "source": [
    "#sum total of the revenue_change list\n",
    "sum_revenue_change = 0\n",
    "\n",
    "for x in revenue_change:\n",
    "    sum_revenue_change += x\n",
    "sum_revenue_change \n"
   ]
  },
  {
   "cell_type": "code",
   "execution_count": 43,
   "id": "b400369d-c9e5-4c7a-bfd6-f6b317c2a703",
   "metadata": {},
   "outputs": [
    {
     "data": {
      "text/plain": [
       "84"
      ]
     },
     "execution_count": 43,
     "metadata": {},
     "output_type": "execute_result"
    }
   ],
   "source": [
    "len(revenue_change)"
   ]
  },
  {
   "cell_type": "code",
   "execution_count": 44,
   "id": "75204002-efba-4c02-ae01-194b7c6d0656",
   "metadata": {},
   "outputs": [
    {
     "name": "stdout",
     "output_type": "stream",
     "text": [
      " Average changes in profit/losses over the period: \n",
      " $-3732.809523809524\n"
     ]
    }
   ],
   "source": [
    "average_changes_profit = sum_revenue_change/len(revenue_change)\n",
    "print(f\" Average changes in profit/losses over the period: \\n ${average_changes_profit}\")"
   ]
  },
  {
   "cell_type": "markdown",
   "id": "f3b92d56-da36-4f4e-9e66-78a2c90cd2c2",
   "metadata": {},
   "source": [
    "# The greatest increase in profits (date and amount) over the entire period"
   ]
  },
  {
   "cell_type": "code",
   "execution_count": 18,
   "id": "9543285e-80ca-4586-823e-9d3b57f7ff2a",
   "metadata": {},
   "outputs": [
    {
     "name": "stdout",
     "output_type": "stream",
     "text": [
      "[116771, -662642, -391430, 379920, 212354, 510239, -428211, -821271, 693918, 416278, -974163, 860159, -1115009, 1033048, 95318, -308093, 99052, -521393, 605450, 231727, -65187, -702716, 177975, -1065544, 1926159, -917805, 898730, -334262, -246499, -64055, -1529236, 1497596, 304914, -635801, 398319, -183161, -37864, -253689, 403655, 94168, 306877, -83000, 210462, -2196167, 1465222, -956983, 1838447, -468003, -64602, 206242, -242155, -449079, 315198, 241099, 111540, 365942, -219310, -368665, 409837, 151210, -110244, -341938, -1212159, 683246, -70825, 335594, 417334, -272194, -236462, 657432, -211262, -128237, -1750387, 925441, 932089, -311434, 267252, -1876758, 1733696, 198551, -665765, 693229, -734926, 77242]\n"
     ]
    }
   ],
   "source": [
    "print(revenue_change)"
   ]
  },
  {
   "cell_type": "code",
   "execution_count": 19,
   "id": "8d6441a9-43ba-458c-b059-48f3113c9c9f",
   "metadata": {},
   "outputs": [],
   "source": [
    "budget_data_df\n",
    "profit_losses = list(budget_data_df[\"Profit/Losses\"])"
   ]
  },
  {
   "cell_type": "code",
   "execution_count": 20,
   "id": "94d14bf5-cf49-4e53-99a7-54cea3c25fb5",
   "metadata": {},
   "outputs": [
    {
     "name": "stdout",
     "output_type": "stream",
     "text": [
      " Greatest increase in profits: \n",
      " $1926159\n"
     ]
    }
   ],
   "source": [
    "# creating a loop, if the change in one month is greater than MaxDiff, then MaxDiff = this new value, and so on until we go through the whole loop\n",
    "\n",
    "revenue_change = get_changes(profit_losses)\n",
    "size = len(revenue_change)\n",
    "\n",
    "def maxDiff(revenue_change, revenue_change_size):\n",
    "    max_diff = revenue_change[0]\n",
    "    for i in range(1, revenue_change_size):\n",
    "        if revenue_change[i] > max_diff:\n",
    "            max_diff = revenue_change[i]\n",
    "    return max_diff\n",
    "\n",
    "print (f\" Greatest increase in profits: \\n ${maxDiff(revenue_change, size)}\" )"
   ]
  },
  {
   "cell_type": "code",
   "execution_count": 21,
   "id": "96980ed2-b1e2-44db-9f0b-bf4bf3ae6fe0",
   "metadata": {},
   "outputs": [
    {
     "data": {
      "text/plain": [
       "24"
      ]
     },
     "execution_count": 21,
     "metadata": {},
     "output_type": "execute_result"
    }
   ],
   "source": [
    "# finding the index of the greatest increase\n",
    "\n",
    "revenue_change.index(1926159)"
   ]
  },
  {
   "cell_type": "markdown",
   "id": "6db86c47",
   "metadata": {},
   "source": [
    "## The greatest increase is between months 24 and 25, because the revenue change index 24 = profit_losses[25]-profit_losses[24]\n",
    "## As a result, the month with the greatest increase is month 25"
   ]
  },
  {
   "cell_type": "code",
   "execution_count": 50,
   "id": "78970311-8854-43ae-97bc-3718801e049d",
   "metadata": {},
   "outputs": [
    {
     "data": {
      "text/plain": [
       "'Feb-2012'"
      ]
     },
     "execution_count": 50,
     "metadata": {},
     "output_type": "execute_result"
    }
   ],
   "source": [
    "# finding the month corresponding to index 25\n",
    "\n",
    "date = list(budget_data_df[\"Date\"])\n",
    "date[25]\n"
   ]
  },
  {
   "cell_type": "code",
   "execution_count": 52,
   "id": "ebbc2768-836b-4084-ab0b-3341d859d38f",
   "metadata": {},
   "outputs": [
    {
     "name": "stdout",
     "output_type": "stream",
     "text": [
      " Greatest increase in profits: \n",
      " Feb-2012: $1926159\n"
     ]
    }
   ],
   "source": [
    "print (f\" Greatest increase in profits: \\n {(date[25])}: ${maxDiff(revenue_change, size)}\" )"
   ]
  },
  {
   "cell_type": "markdown",
   "id": "bea34602-d55d-4145-b86c-53eef90b8f08",
   "metadata": {},
   "source": [
    "# The greatest decrease in losses (date and amount) over the entire period"
   ]
  },
  {
   "cell_type": "code",
   "execution_count": 24,
   "id": "4f62af37-9904-44be-bcfb-77d9399b4faa",
   "metadata": {},
   "outputs": [
    {
     "name": "stdout",
     "output_type": "stream",
     "text": [
      " Greatest decrease in profits: \n",
      " $-2196167\n"
     ]
    }
   ],
   "source": [
    "# same for loop, except we replace MinDiff with a new value if the new value < MinDiff\n",
    "revenue_change = get_changes(profit_losses)\n",
    "size = len(revenue_change)\n",
    "\n",
    "def minDiff(revenue_change, revenue_change_size):\n",
    "    min_diff = revenue_change[0]\n",
    "    for i in range(1, revenue_change_size):\n",
    "        if revenue_change[i] < min_diff:\n",
    "            min_diff = revenue_change[i]\n",
    "    return min_diff\n",
    "\n",
    "print (f\" Greatest decrease in profits: \\n ${minDiff(revenue_change, size)}\" )"
   ]
  },
  {
   "cell_type": "code",
   "execution_count": 25,
   "id": "fed0bb71-53a3-44c4-9361-d36cbb5aebeb",
   "metadata": {},
   "outputs": [
    {
     "data": {
      "text/plain": [
       "43"
      ]
     },
     "execution_count": 25,
     "metadata": {},
     "output_type": "execute_result"
    }
   ],
   "source": [
    "# finding the index of the greatest decrease\n",
    "\n",
    "revenue_change.index(-2196167)"
   ]
  },
  {
   "cell_type": "markdown",
   "id": "61f0f358",
   "metadata": {},
   "source": [
    "## Same thing here, the revenue_change index 43 = profit_losses[44]-profit_losses[43]\n",
    "## So the month incurring the greatest decrease is month [44] corresponding to profit_losses[44]\n"
   ]
  },
  {
   "cell_type": "code",
   "execution_count": 53,
   "id": "365eb5ab-c60e-467a-9964-12b67f4fd6ee",
   "metadata": {},
   "outputs": [
    {
     "data": {
      "text/plain": [
       "'Sep-2013'"
      ]
     },
     "execution_count": 53,
     "metadata": {},
     "output_type": "execute_result"
    }
   ],
   "source": [
    "# finding the corresponding date of index 44\n",
    "\n",
    "date = list(budget_data_df[\"Date\"])\n",
    "date[44]"
   ]
  },
  {
   "cell_type": "code",
   "execution_count": 58,
   "id": "5f9b618c-259f-4338-802c-0bfb3dd426e3",
   "metadata": {
    "scrolled": true
   },
   "outputs": [
    {
     "name": "stdout",
     "output_type": "stream",
     "text": [
      " Greatest decrease in profits: \n",
      " Sep-2013: $-2196167\n"
     ]
    }
   ],
   "source": [
    "print (f\" Greatest decrease in profits: \\n {date[44]}: ${minDiff(revenue_change, size)}\" )"
   ]
  },
  {
   "cell_type": "markdown",
   "id": "4a782879-1cb8-4290-9fa5-eb5d31ba777b",
   "metadata": {},
   "source": [
    "# Financial Analysis"
   ]
  },
  {
   "cell_type": "code",
   "execution_count": 28,
   "id": "9c4dfe19",
   "metadata": {},
   "outputs": [
    {
     "name": "stdout",
     "output_type": "stream",
     "text": [
      "Financial Analysis \n",
      "--------------------------------------------------\n"
     ]
    }
   ],
   "source": [
    "\n",
    "print(f\"Financial Analysis \\n{'-'*50}\")"
   ]
  },
  {
   "cell_type": "code",
   "execution_count": 29,
   "id": "82a0e1ca-f7e0-49a8-a13d-46dca9211fb6",
   "metadata": {},
   "outputs": [
    {
     "name": "stdout",
     "output_type": "stream",
     "text": [
      "Total Months: 85\n"
     ]
    }
   ],
   "source": [
    "print(f\"Total Months: {len(budget_data_df)-1}\")"
   ]
  },
  {
   "cell_type": "code",
   "execution_count": 31,
   "id": "c29509fb",
   "metadata": {},
   "outputs": [
    {
     "name": "stdout",
     "output_type": "stream",
     "text": [
      "  Total $38382578\n"
     ]
    }
   ],
   "source": [
    "print(f\"  Total ${sum_profit}\")"
   ]
  },
  {
   "cell_type": "code",
   "execution_count": 32,
   "id": "fa83b2b6",
   "metadata": {},
   "outputs": [
    {
     "name": "stdout",
     "output_type": "stream",
     "text": [
      " Average Change $-8686.357142857143\n"
     ]
    }
   ],
   "source": [
    "print(f\" Average Change ${average_changes_profit}\")"
   ]
  },
  {
   "cell_type": "code",
   "execution_count": 57,
   "id": "e226bda5",
   "metadata": {},
   "outputs": [
    {
     "name": "stdout",
     "output_type": "stream",
     "text": [
      " Greatest Increase in Profits: Feb-2012 ($1926159)\n"
     ]
    }
   ],
   "source": [
    "print (f\" Greatest Increase in Profits: {(date[25])} (${maxDiff(revenue_change, size)})\" )"
   ]
  },
  {
   "cell_type": "code",
   "execution_count": null,
   "id": "ebe736a3",
   "metadata": {},
   "outputs": [],
   "source": []
  }
 ],
 "metadata": {
  "kernelspec": {
   "display_name": "Python 3 (ipykernel)",
   "language": "python",
   "name": "python3"
  },
  "language_info": {
   "codemirror_mode": {
    "name": "ipython",
    "version": 3
   },
   "file_extension": ".py",
   "mimetype": "text/x-python",
   "name": "python",
   "nbconvert_exporter": "python",
   "pygments_lexer": "ipython3",
   "version": "3.10.9"
  }
 },
 "nbformat": 4,
 "nbformat_minor": 5
}
