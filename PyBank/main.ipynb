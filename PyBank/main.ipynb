{
 "cells": [
  {
   "cell_type": "code",
   "execution_count": 1,
   "id": "980a289a-317b-42de-a16d-aedc31f68b05",
   "metadata": {},
   "outputs": [],
   "source": [
    "import pandas as pd\n",
    "from pathlib import Path"
   ]
  },
  {
   "cell_type": "code",
   "execution_count": 34,
   "id": "e8e310fd-55ed-4a1a-b4ad-6b411a2a066f",
   "metadata": {},
   "outputs": [],
   "source": [
    "budget_data_csv = Path(\"Resources/budget_data.csv\") \n",
    "budget_data_df = pd.read_csv(budget_data_csv)\n"
   ]
  },
  {
   "cell_type": "code",
   "execution_count": 35,
   "id": "d667ec19-847b-4254-a8a1-6004bbe244d3",
   "metadata": {},
   "outputs": [
    {
     "data": {
      "text/html": [
       "<div>\n",
       "<style scoped>\n",
       "    .dataframe tbody tr th:only-of-type {\n",
       "        vertical-align: middle;\n",
       "    }\n",
       "\n",
       "    .dataframe tbody tr th {\n",
       "        vertical-align: top;\n",
       "    }\n",
       "\n",
       "    .dataframe thead th {\n",
       "        text-align: right;\n",
       "    }\n",
       "</style>\n",
       "<table border=\"1\" class=\"dataframe\">\n",
       "  <thead>\n",
       "    <tr style=\"text-align: right;\">\n",
       "      <th></th>\n",
       "      <th>Date</th>\n",
       "      <th>Profit/Losses</th>\n",
       "    </tr>\n",
       "  </thead>\n",
       "  <tbody>\n",
       "    <tr>\n",
       "      <th>0</th>\n",
       "      <td>Jan-2010</td>\n",
       "      <td>867884</td>\n",
       "    </tr>\n",
       "    <tr>\n",
       "      <th>1</th>\n",
       "      <td>Feb-2010</td>\n",
       "      <td>984655</td>\n",
       "    </tr>\n",
       "    <tr>\n",
       "      <th>2</th>\n",
       "      <td>Mar-2010</td>\n",
       "      <td>322013</td>\n",
       "    </tr>\n",
       "    <tr>\n",
       "      <th>3</th>\n",
       "      <td>Apr-2010</td>\n",
       "      <td>-69417</td>\n",
       "    </tr>\n",
       "    <tr>\n",
       "      <th>4</th>\n",
       "      <td>May-2010</td>\n",
       "      <td>310503</td>\n",
       "    </tr>\n",
       "    <tr>\n",
       "      <th>...</th>\n",
       "      <td>...</td>\n",
       "      <td>...</td>\n",
       "    </tr>\n",
       "    <tr>\n",
       "      <th>81</th>\n",
       "      <td>Oct-2016</td>\n",
       "      <td>102685</td>\n",
       "    </tr>\n",
       "    <tr>\n",
       "      <th>82</th>\n",
       "      <td>Nov-2016</td>\n",
       "      <td>795914</td>\n",
       "    </tr>\n",
       "    <tr>\n",
       "      <th>83</th>\n",
       "      <td>Dec-2016</td>\n",
       "      <td>60988</td>\n",
       "    </tr>\n",
       "    <tr>\n",
       "      <th>84</th>\n",
       "      <td>Jan-2017</td>\n",
       "      <td>138230</td>\n",
       "    </tr>\n",
       "    <tr>\n",
       "      <th>85</th>\n",
       "      <td>Feb-2017</td>\n",
       "      <td>671099</td>\n",
       "    </tr>\n",
       "  </tbody>\n",
       "</table>\n",
       "<p>86 rows × 2 columns</p>\n",
       "</div>"
      ],
      "text/plain": [
       "        Date  Profit/Losses\n",
       "0   Jan-2010         867884\n",
       "1   Feb-2010         984655\n",
       "2   Mar-2010         322013\n",
       "3   Apr-2010         -69417\n",
       "4   May-2010         310503\n",
       "..       ...            ...\n",
       "81  Oct-2016         102685\n",
       "82  Nov-2016         795914\n",
       "83  Dec-2016          60988\n",
       "84  Jan-2017         138230\n",
       "85  Feb-2017         671099\n",
       "\n",
       "[86 rows x 2 columns]"
      ]
     },
     "execution_count": 35,
     "metadata": {},
     "output_type": "execute_result"
    }
   ],
   "source": [
    "budget_data_df"
   ]
  },
  {
   "cell_type": "markdown",
   "id": "d3256f87-1ed5-424e-921e-456636e0738c",
   "metadata": {},
   "source": []
  },
  {
   "cell_type": "code",
   "execution_count": 36,
   "id": "02b928ef-1db2-481c-819e-9b1e05d1eb6a",
   "metadata": {},
   "outputs": [
    {
     "name": "stdout",
     "output_type": "stream",
     "text": [
      "        Date  Profit/Losses\n",
      "0   Jan-2010         867884\n",
      "1   Feb-2010         984655\n",
      "2   Mar-2010         322013\n",
      "3   Apr-2010         -69417\n",
      "4   May-2010         310503\n",
      "..       ...            ...\n",
      "81  Oct-2016         102685\n",
      "82  Nov-2016         795914\n",
      "83  Dec-2016          60988\n",
      "84  Jan-2017         138230\n",
      "85  Feb-2017         671099\n",
      "\n",
      "[86 rows x 2 columns]\n"
     ]
    }
   ],
   "source": [
    "print(budget_data_df)"
   ]
  },
  {
   "cell_type": "code",
   "execution_count": 37,
   "id": "03982885-45a0-4ced-b1f1-0dc89451de5f",
   "metadata": {},
   "outputs": [
    {
     "name": "stdout",
     "output_type": "stream",
     "text": [
      "[867884, 984655, 322013, -69417, 310503, 522857, 1033096, 604885, -216386, 477532, 893810, -80353, 779806, -335203, 697845, 793163, 485070, 584122, 62729, 668179, 899906, 834719, 132003, 309978, -755566, 1170593, 252788, 1151518, 817256, 570757, 506702, -1022534, 475062, 779976, 144175, 542494, 359333, 321469, 67780, 471435, 565603, 872480, 789480, 999942, -1196225, 268997, -687986, 1150461, 682458, 617856, 824098, 581943, 132864, 448062, 689161, 800701, 1166643, 947333, 578668, 988505, 1139715, 1029471, 687533, -524626, 158620, 87795, 423389, 840723, 568529, 332067, 989499, 778237, 650000, -1100387, -174946, 757143, 445709, 712961, -1163797, 569899, 768450, 102685, 795914, 60988, 138230, 671099]\n"
     ]
    }
   ],
   "source": [
    "profit_losses = list(budget_data_df[\"Profit/Losses\"])\n",
    "print(profit_losses)"
   ]
  },
  {
   "cell_type": "code",
   "execution_count": 6,
   "id": "f747d1b2-7444-49a7-9e96-b837b5b98aa2",
   "metadata": {},
   "outputs": [
    {
     "name": "stdout",
     "output_type": "stream",
     "text": [
      "['Jan-2010', 'Feb-2010', 'Mar-2010', 'Apr-2010', 'May-2010', 'Jun-2010', 'Jul-2010', 'Aug-2010', 'Sep-2010', 'Oct-2010', 'Nov-2010', 'Dec-2010', 'Jan-2011', 'Feb-2011', 'Mar-2011', 'Apr-2011', 'May-2011', 'Jun-2011', 'Jul-2011', 'Aug-2011', 'Sep-2011', 'Oct-2011', 'Nov-2011', 'Dec-2011', 'Jan-2012', 'Feb-2012', 'Mar-2012', 'Apr-2012', 'May-2012', 'Jun-2012', 'Jul-2012', 'Aug-2012', 'Sep-2012', 'Oct-2012', 'Nov-2012', 'Dec-2012', 'Jan-2013', 'Feb-2013', 'Mar-2013', 'Apr-2013', 'May-2013', 'Jun-2013', 'Jul-2013', 'Aug-2013', 'Sep-2013', 'Oct-2013', 'Nov-2013', 'Dec-2013', 'Jan-2014', 'Feb-2014', 'Mar-2014', 'Apr-2014', 'May-2014', 'Jun-2014', 'Jul-2014', 'Aug-2014', 'Sep-2014', 'Oct-2014', 'Nov-2014', 'Dec-2014', 'Jan-2015', 'Feb-2015', 'Mar-2015', 'Apr-2015', 'May-2015', 'Jun-2015', 'Jul-2015', 'Aug-2015', 'Sep-2015', 'Oct-2015', 'Nov-2015', 'Dec-2015', 'Jan-2016', 'Feb-2016', 'Mar-2016', 'Apr-2016', 'May-2016', 'Jun-2016', 'Jul-2016', 'Aug-2016', 'Sep-2016', 'Oct-2016', 'Nov-2016', 'Dec-2016', 'Jan-2017', 'Feb-2017']\n"
     ]
    }
   ],
   "source": [
    "date = list(budget_data_df[\"Date\"])\n",
    "print(date)"
   ]
  },
  {
   "cell_type": "markdown",
   "id": "ad8d0c9f-b890-43a4-af15-5f5167138d25",
   "metadata": {},
   "source": [
    "# The total number of months included in the dataset"
   ]
  },
  {
   "cell_type": "code",
   "execution_count": 40,
   "id": "cfd6c31c-d950-4b25-82e5-81540ed69731",
   "metadata": {},
   "outputs": [
    {
     "name": "stdout",
     "output_type": "stream",
     "text": [
      "Total Months: 85\n"
     ]
    }
   ],
   "source": [
    "#remove header\n",
    "print(f\"Total Months: {len(budget_data_df)-1}\")"
   ]
  },
  {
   "cell_type": "markdown",
   "id": "e73ec2fb-570a-43b4-b440-1997b934a0c7",
   "metadata": {},
   "source": [
    "# The net total amount of Profit/Losses over the entire period"
   ]
  },
  {
   "cell_type": "code",
   "execution_count": 8,
   "id": "b26abdd8-816d-4245-9e82-441c35163f81",
   "metadata": {},
   "outputs": [
    {
     "name": "stdout",
     "output_type": "stream",
     "text": [
      "[867884, 984655, 322013, -69417, 310503, 522857, 1033096, 604885, -216386, 477532, 893810, -80353, 779806, -335203, 697845, 793163, 485070, 584122, 62729, 668179, 899906, 834719, 132003, 309978, -755566, 1170593, 252788, 1151518, 817256, 570757, 506702, -1022534, 475062, 779976, 144175, 542494, 359333, 321469, 67780, 471435, 565603, 872480, 789480, 999942, -1196225, 268997, -687986, 1150461, 682458, 617856, 824098, 581943, 132864, 448062, 689161, 800701, 1166643, 947333, 578668, 988505, 1139715, 1029471, 687533, -524626, 158620, 87795, 423389, 840723, 568529, 332067, 989499, 778237, 650000, -1100387, -174946, 757143, 445709, 712961, -1163797, 569899, 768450, 102685, 795914, 60988, 138230, 671099]\n"
     ]
    }
   ],
   "source": [
    "profit_losses = list(budget_data_df[\"Profit/Losses\"])\n",
    "print(profit_losses)"
   ]
  },
  {
   "cell_type": "code",
   "execution_count": 46,
   "id": "1e42cd1d-36c0-4b15-b4fa-e73a6efcfc83",
   "metadata": {},
   "outputs": [
    {
     "name": "stdout",
     "output_type": "stream",
     "text": [
      " Net Total Amount of Profit/Losses over the entire period: \n",
      " $38382578\n"
     ]
    }
   ],
   "source": [
    "sum_profit = 0\n",
    "\n",
    "for x in budget_data_df[\"Profit/Losses\"]:\n",
    "    sum_profit += x\n",
    "print(f\" Net Total Amount of Profit/Losses over the entire period: \\n ${sum_profit}\")"
   ]
  },
  {
   "cell_type": "code",
   "execution_count": 21,
   "id": "af90de13-80e2-4ad1-b71b-4fc0da23f02e",
   "metadata": {},
   "outputs": [
    {
     "ename": "IndentationError",
     "evalue": "unexpected indent (751552199.py, line 2)",
     "output_type": "error",
     "traceback": [
      "\u001b[1;36m  Cell \u001b[1;32mIn[21], line 2\u001b[1;36m\u001b[0m\n\u001b[1;33m    sum_profit = 0\u001b[0m\n\u001b[1;37m    ^\u001b[0m\n\u001b[1;31mIndentationError\u001b[0m\u001b[1;31m:\u001b[0m unexpected indent\n"
     ]
    }
   ],
   "source": [
    "#def net_total(profit):\n",
    "    sum_profit = 0\n",
    "    profit_losses = list(budget_data_df[\"Profit/Losses\"])\n",
    "    \n",
    "    for profit_losses in budget_data_df:\n",
    "        sum_profit += profit_losses\n",
    "    return sum_profit\n",
    "\n",
    "sum_total = net_total(profit_losses)"
   ]
  },
  {
   "cell_type": "code",
   "execution_count": 31,
   "id": "3ab25983-d41b-417e-90b2-244f59b35f59",
   "metadata": {},
   "outputs": [
    {
     "data": {
      "text/plain": [
       "38382578"
      ]
     },
     "execution_count": 31,
     "metadata": {},
     "output_type": "execute_result"
    }
   ],
   "source": [
    "sum_profit = 0\n",
    "\n",
    "for x in budget_data_df[\"Profit/Losses\"]:\n",
    "    sum_profit += x\n",
    "sum_profit"
   ]
  },
  {
   "cell_type": "code",
   "execution_count": 30,
   "id": "90bf5f3c-65ab-4b76-b7d6-ca3d95a34c71",
   "metadata": {},
   "outputs": [
    {
     "ename": "TypeError",
     "evalue": "unsupported operand type(s) for +=: 'int' and 'str'",
     "output_type": "error",
     "traceback": [
      "\u001b[1;31m---------------------------------------------------------------------------\u001b[0m",
      "\u001b[1;31mTypeError\u001b[0m                                 Traceback (most recent call last)",
      "Cell \u001b[1;32mIn[30], line 5\u001b[0m\n\u001b[0;32m      2\u001b[0m profit_losses \u001b[38;5;241m=\u001b[39m \u001b[38;5;28mlist\u001b[39m(budget_data_df[\u001b[38;5;124m\"\u001b[39m\u001b[38;5;124mProfit/Losses\u001b[39m\u001b[38;5;124m\"\u001b[39m])\n\u001b[0;32m      4\u001b[0m \u001b[38;5;28;01mfor\u001b[39;00m profit_losses \u001b[38;5;129;01min\u001b[39;00m budget_data_df:\n\u001b[1;32m----> 5\u001b[0m     sum_profit \u001b[38;5;241m+\u001b[39m\u001b[38;5;241m=\u001b[39m profit_losses\n\u001b[0;32m      6\u001b[0m sum_profit\n\u001b[0;32m      8\u001b[0m sum_total \u001b[38;5;241m=\u001b[39m net_total(profit_losses)\n",
      "\u001b[1;31mTypeError\u001b[0m: unsupported operand type(s) for +=: 'int' and 'str'"
     ]
    }
   ],
   "source": [
    "sum_profit = 0\n",
    "profit_losses = list(budget_data_df[\"Profit/Losses\"])\n",
    "    \n",
    "for profit_losses in budget_data_df:\n",
    "    sum_profit += profit_losses\n",
    "sum_profit\n",
    "\n",
    "sum_total = net_total(profit_losses)"
   ]
  },
  {
   "cell_type": "code",
   "execution_count": 18,
   "id": "2f7bfa5e-c5ec-4838-9909-28c39d1fa02c",
   "metadata": {},
   "outputs": [
    {
     "data": {
      "text/plain": [
       "Date             object\n",
       "Profit/Losses     int64\n",
       "dtype: object"
      ]
     },
     "execution_count": 18,
     "metadata": {},
     "output_type": "execute_result"
    }
   ],
   "source": [
    "budget_data_df.dtypes"
   ]
  },
  {
   "cell_type": "markdown",
   "id": "20d61c38-00eb-4235-87d3-3a201002a8e4",
   "metadata": {},
   "source": [
    "# The average of the changes in Profit/Losses over the entire period"
   ]
  },
  {
   "cell_type": "code",
   "execution_count": 10,
   "id": "bfac5dd3-2ea4-4754-8610-5d8c99ce76a0",
   "metadata": {},
   "outputs": [],
   "source": [
    "# 1 extract list\n",
    "# inside list : loop n and n-1 refer to python activity \n",
    "# loop for profit in profits_losses\n",
    "#(n-(n-1))\n",
    "#2. sum list / len(amounts in list should be -1 compared to OG list because changes)"
   ]
  },
  {
   "cell_type": "code",
   "execution_count": 11,
   "id": "40887743-33ea-40bd-8144-67dfb1c4662c",
   "metadata": {},
   "outputs": [
    {
     "data": {
      "text/plain": [
       "86"
      ]
     },
     "execution_count": 11,
     "metadata": {},
     "output_type": "execute_result"
    }
   ],
   "source": [
    "profit_losses = list(budget_data_df[\"Profit/Losses\"])\n",
    "len(profit_losses)"
   ]
  },
  {
   "cell_type": "code",
   "execution_count": 88,
   "id": "1a51584a-449b-40b4-a44a-db4f0e5cebd9",
   "metadata": {},
   "outputs": [
    {
     "name": "stdout",
     "output_type": "stream",
     "text": [
      "[116771, -662642, -391430, 379920, 212354, 510239, -428211, -821271, 693918, 416278, -974163, 860159, -1115009, 1033048, 95318, -308093, 99052, -521393, 605450, 231727, -65187, -702716, 177975, -1065544, 1926159, -917805, 898730, -334262, -246499, -64055, -1529236, 1497596, 304914, -635801, 398319, -183161, -37864, -253689, 403655, 94168, 306877, -83000, 210462, -2196167, 1465222, -956983, 1838447, -468003, -64602, 206242, -242155, -449079, 315198, 241099, 111540, 365942, -219310, -368665, 409837, 151210, -110244, -341938, -1212159, 683246, -70825, 335594, 417334, -272194, -236462, 657432, -211262, -128237, -1750387, 925441, 932089, -311434, 267252, -1876758, 1733696, 198551, -665765, 693229, -734926, 77242]\n"
     ]
    }
   ],
   "source": [
    "profit_losses = list(budget_data_df[\"Profit/Losses\"])\n",
    "\n",
    "def get_changes(profit) :\n",
    "    changes = []\n",
    "\n",
    "    for n in range (1, len(profit_losses)-1):\n",
    "        prev_numbers = profit_losses[n-1]  #call elements in list with square brackets\n",
    "        current_num = profit_losses[n]\n",
    "        change =  current_num - prev_numbers\n",
    "        changes.append(change)\n",
    "    return changes\n",
    "\n",
    "revenue_change = get_changes(profit_losses)\n",
    "print(revenue_change)"
   ]
  },
  {
   "cell_type": "code",
   "execution_count": 89,
   "id": "5a066a4f-35db-485b-8f02-e2ddd8642d86",
   "metadata": {},
   "outputs": [
    {
     "data": {
      "text/plain": [
       "-729654"
      ]
     },
     "execution_count": 89,
     "metadata": {},
     "output_type": "execute_result"
    }
   ],
   "source": [
    "sum_revenue_change = 0\n",
    "\n",
    "for x in revenue_change:\n",
    "    sum_revenue_change += x\n",
    "sum_revenue_change \n"
   ]
  },
  {
   "cell_type": "code",
   "execution_count": 90,
   "id": "b400369d-c9e5-4c7a-bfd6-f6b317c2a703",
   "metadata": {},
   "outputs": [
    {
     "data": {
      "text/plain": [
       "84"
      ]
     },
     "execution_count": 90,
     "metadata": {},
     "output_type": "execute_result"
    }
   ],
   "source": [
    "len(revenue_change)"
   ]
  },
  {
   "cell_type": "code",
   "execution_count": 76,
   "id": "75204002-efba-4c02-ae01-194b7c6d0656",
   "metadata": {},
   "outputs": [
    {
     "name": "stdout",
     "output_type": "stream",
     "text": [
      " Average changes in profit/losses over the period: \n",
      " $-8686.357142857143\n"
     ]
    }
   ],
   "source": [
    "average_changes_profit = sum_revenue_change/len(revenue_change)\n",
    "print(f\" Average changes in profit/losses over the period: \\n ${average_changes_profit}\")"
   ]
  },
  {
   "cell_type": "markdown",
   "id": "f3b92d56-da36-4f4e-9e66-78a2c90cd2c2",
   "metadata": {},
   "source": [
    "# The greatest increase in profits (date and amount) over the entire period"
   ]
  },
  {
   "cell_type": "code",
   "execution_count": 91,
   "id": "9543285e-80ca-4586-823e-9d3b57f7ff2a",
   "metadata": {},
   "outputs": [
    {
     "name": "stdout",
     "output_type": "stream",
     "text": [
      "[116771, -662642, -391430, 379920, 212354, 510239, -428211, -821271, 693918, 416278, -974163, 860159, -1115009, 1033048, 95318, -308093, 99052, -521393, 605450, 231727, -65187, -702716, 177975, -1065544, 1926159, -917805, 898730, -334262, -246499, -64055, -1529236, 1497596, 304914, -635801, 398319, -183161, -37864, -253689, 403655, 94168, 306877, -83000, 210462, -2196167, 1465222, -956983, 1838447, -468003, -64602, 206242, -242155, -449079, 315198, 241099, 111540, 365942, -219310, -368665, 409837, 151210, -110244, -341938, -1212159, 683246, -70825, 335594, 417334, -272194, -236462, 657432, -211262, -128237, -1750387, 925441, 932089, -311434, 267252, -1876758, 1733696, 198551, -665765, 693229, -734926, 77242]\n"
     ]
    }
   ],
   "source": [
    "print(revenue_change)"
   ]
  },
  {
   "cell_type": "code",
   "execution_count": null,
   "id": "cfd4090b-787e-4d8b-b424-2d7e8b03a7bc",
   "metadata": {},
   "outputs": [],
   "source": [
    "# loop, if n > MaxDiff, set n=MaxDiff, if not MaxDiff remains the same, continue loop"
   ]
  },
  {
   "cell_type": "code",
   "execution_count": 97,
   "id": "aa76d8c9-f74f-4eb3-ac2b-37c906075000",
   "metadata": {},
   "outputs": [
    {
     "ename": "TypeError",
     "evalue": "'>' not supported between instances of 'list' and 'int'",
     "output_type": "error",
     "traceback": [
      "\u001b[1;31m---------------------------------------------------------------------------\u001b[0m",
      "\u001b[1;31mTypeError\u001b[0m                                 Traceback (most recent call last)",
      "Cell \u001b[1;32mIn[97], line 15\u001b[0m\n\u001b[0;32m     12\u001b[0m             max_diff \u001b[38;5;241m=\u001b[39m max_diff\n\u001b[0;32m     13\u001b[0m     \u001b[38;5;28;01mreturn\u001b[39;00m max_diff\n\u001b[1;32m---> 15\u001b[0m \u001b[38;5;28mprint\u001b[39m(\u001b[43mmaxDiff\u001b[49m\u001b[43m(\u001b[49m\u001b[43mprofit_losses\u001b[49m\u001b[43m,\u001b[49m\u001b[43m \u001b[49m\u001b[43msize\u001b[49m\u001b[43m)\u001b[49m)\n",
      "Cell \u001b[1;32mIn[97], line 8\u001b[0m, in \u001b[0;36mmaxDiff\u001b[1;34m(revenue_change, revenue_change_size)\u001b[0m\n\u001b[0;32m      5\u001b[0m max_diff \u001b[38;5;241m=\u001b[39m revenue_change[\u001b[38;5;241m0\u001b[39m]\n\u001b[0;32m      7\u001b[0m \u001b[38;5;28;01mfor\u001b[39;00m i \u001b[38;5;129;01min\u001b[39;00m \u001b[38;5;28mrange\u001b[39m (\u001b[38;5;241m1\u001b[39m, revenue_change_size):\n\u001b[1;32m----> 8\u001b[0m     \u001b[38;5;28;01mif\u001b[39;00m \u001b[43mrevenue_change\u001b[49m\u001b[43m \u001b[49m\u001b[38;5;241;43m>\u001b[39;49m\u001b[43m \u001b[49m\u001b[43mmax_diff\u001b[49m:\n\u001b[0;32m      9\u001b[0m         max_diff \u001b[38;5;241m=\u001b[39m revenue_change\n\u001b[0;32m     11\u001b[0m     \u001b[38;5;28;01mif\u001b[39;00m revenue_change \u001b[38;5;241m<\u001b[39m max_diff:\n",
      "\u001b[1;31mTypeError\u001b[0m: '>' not supported between instances of 'list' and 'int'"
     ]
    }
   ],
   "source": [
    "revenue_change = get_changes(profit_losses)\n",
    "size = len(revenue_change)\n",
    "\n",
    "def maxDiff(revenue_change, revenue_change_size):\n",
    "    max_diff = revenue_change[0]\n",
    "    \n",
    "    for i in range (1, revenue_change_size):\n",
    "        if revenue_change > max_diff:\n",
    "            max_diff = revenue_change\n",
    "        \n",
    "        if revenue_change < max_diff:\n",
    "            max_diff = max_diff\n",
    "    return max_diff\n",
    "\n",
    "print(maxDiff(profit_losses, size))"
   ]
  },
  {
   "cell_type": "code",
   "execution_count": 92,
   "id": "952f416f-6dd5-4de4-ae6e-1319ba5dd51d",
   "metadata": {},
   "outputs": [
    {
     "name": "stdout",
     "output_type": "stream",
     "text": [
      "Maximum difference is 99\n"
     ]
    }
   ],
   "source": [
    "def maxDiff(arr, arr_size):\n",
    "    max_diff = arr[1] - arr[0]\n",
    "    min_element = arr[0]\n",
    "      \n",
    "    for i in range( 1, arr_size ):\n",
    "        if (arr[i] - min_element > max_diff):\n",
    "            max_diff = arr[i] - min_element\n",
    "      \n",
    "        if (arr[i] < min_element):\n",
    "            min_element = arr[i]\n",
    "    return max_diff\n",
    "      \n",
    "# Driver program to test above function \n",
    "arr = [1, 2, 6, 80, 100]\n",
    "size = len(arr)\n",
    "print (\"Maximum difference is\", \n",
    "        maxDiff(arr, size))"
   ]
  },
  {
   "cell_type": "code",
   "execution_count": 17,
   "id": "e7d524c0-d1cd-483a-a395-d21374c58f63",
   "metadata": {},
   "outputs": [
    {
     "name": "stdout",
     "output_type": "stream",
     "text": [
      "Maximum difference is $ 2362868\n"
     ]
    }
   ],
   "source": [
    "profit_losses = list(budget_data_df[\"Profit/Losses\"])\n",
    "size = len(profit_losses)\n",
    "\n",
    "def maxDiff(profit_losses, profit_losses_size):\n",
    "    max_diff = profit_losses[1] - profit_losses[0]\n",
    "    min_element = profit_losses[0]\n",
    "    \n",
    "    for i in range( 1, profit_losses_size ):\n",
    "        if (profit_losses[i] - min_element > max_diff):\n",
    "            max_diff = profit_losses[i] - min_element\n",
    "      \n",
    "        if (profit_losses[i] < min_element):\n",
    "            min_element = profit_losses[i]\n",
    "    return max_diff\n",
    "\n",
    "print (\"Maximum difference is $\", \n",
    "        maxDiff(profit_losses, size))"
   ]
  },
  {
   "cell_type": "code",
   "execution_count": 96,
   "id": "888a7bda-69b6-4390-a620-aa567dd9c24f",
   "metadata": {},
   "outputs": [
    {
     "ename": "TypeError",
     "evalue": "'>' not supported between instances of 'list' and 'int'",
     "output_type": "error",
     "traceback": [
      "\u001b[1;31m---------------------------------------------------------------------------\u001b[0m",
      "\u001b[1;31mTypeError\u001b[0m                                 Traceback (most recent call last)",
      "Cell \u001b[1;32mIn[96], line 15\u001b[0m\n\u001b[0;32m     12\u001b[0m             max_diff \u001b[38;5;241m=\u001b[39m max_diff\n\u001b[0;32m     13\u001b[0m     \u001b[38;5;28;01mreturn\u001b[39;00m max_diff\n\u001b[1;32m---> 15\u001b[0m \u001b[38;5;28mprint\u001b[39m(\u001b[43mmaxDiff\u001b[49m\u001b[43m(\u001b[49m\u001b[43mprofit_losses\u001b[49m\u001b[43m,\u001b[49m\u001b[43m \u001b[49m\u001b[43msize\u001b[49m\u001b[43m)\u001b[49m)\n",
      "Cell \u001b[1;32mIn[96], line 8\u001b[0m, in \u001b[0;36mmaxDiff\u001b[1;34m(revenue_change, revenue_change_size)\u001b[0m\n\u001b[0;32m      5\u001b[0m max_diff \u001b[38;5;241m=\u001b[39m revenue_change[\u001b[38;5;241m0\u001b[39m]\n\u001b[0;32m      7\u001b[0m \u001b[38;5;28;01mfor\u001b[39;00m i \u001b[38;5;129;01min\u001b[39;00m \u001b[38;5;28mrange\u001b[39m (\u001b[38;5;241m1\u001b[39m, revenue_change_size):\n\u001b[1;32m----> 8\u001b[0m     \u001b[38;5;28;01mif\u001b[39;00m \u001b[43mrevenue_change\u001b[49m\u001b[43m \u001b[49m\u001b[38;5;241;43m>\u001b[39;49m\u001b[43m \u001b[49m\u001b[43mmax_diff\u001b[49m:\n\u001b[0;32m      9\u001b[0m         max_diff \u001b[38;5;241m=\u001b[39m revenue_change\n\u001b[0;32m     11\u001b[0m     \u001b[38;5;28;01mif\u001b[39;00m revenue_change \u001b[38;5;241m<\u001b[39m max_diff:\n",
      "\u001b[1;31mTypeError\u001b[0m: '>' not supported between instances of 'list' and 'int'"
     ]
    }
   ],
   "source": []
  },
  {
   "cell_type": "code",
   "execution_count": 25,
   "id": "8eb8c574-438c-46e7-81b2-c061a5db8610",
   "metadata": {},
   "outputs": [],
   "source": [
    "#Set variables\n",
    "total_months = 0\n",
    "total_revenue = 0\n",
    "revenue = []\n",
    "previous_revenue = 0\n",
    "month_of_change = []\n",
    "revenue_change = 0\n",
    "greatest_decrease = [\"\", 9999999]\n",
    "greatest_increase = [\"\", 0]\n",
    "revenue_change_list = []\n",
    "revenue_average = 0\n"
   ]
  },
  {
   "cell_type": "code",
   "execution_count": null,
   "id": "80a43fe9-f16a-4fd1-81ac-e4c93d4c401e",
   "metadata": {},
   "outputs": [],
   "source": [
    "\n",
    "        #The greatest increase in revenue (date and amount) over the entire period\n",
    "        if revenue_change>greatest_increase[1]:\n",
    "            greatest_increase[1]= revenue_change\n",
    "            greatest_increase[0] = row['Date']\n",
    "\n",
    "        #The greatest decrease in revenue (date and amount) over the entire period\n",
    "        if revenue_change<greatest_decrease[1]:\n",
    "            greatest_decrease[1]= revenue_change\n",
    "            greatest_decrease[0] = row['Date']\n",
    "    revenue_average = sum(revenue_change_list)/len(revenue_change_list)"
   ]
  },
  {
   "cell_type": "code",
   "execution_count": 13,
   "id": "ed4034c8-462c-40e0-8256-504a0d27dd2b",
   "metadata": {},
   "outputs": [
    {
     "name": "stdout",
     "output_type": "stream",
     "text": [
      "Maximum difference is 99\n"
     ]
    }
   ],
   "source": [
    "# Python 3 code to find Maximum difference\n",
    "# between two elements such that larger \n",
    "# element appears after the smaller number\n",
    "  \n",
    "# The function assumes that there are \n",
    "# at least two elements in array.\n",
    "# The function returns a negative \n",
    "# value if the array is sorted in \n",
    "# decreasing order. Returns 0 if \n",
    "# elements are equal\n",
    "def maxDiff(arr, arr_size):\n",
    "    max_diff = arr[1] - arr[0]\n",
    "    min_element = arr[0]\n",
    "      \n",
    "    for i in range( 1, arr_size ):\n",
    "        if (arr[i] - min_element > max_diff):\n",
    "            max_diff = arr[i] - min_element\n",
    "      \n",
    "        if (arr[i] < min_element):\n",
    "            min_element = arr[i]\n",
    "    return max_diff\n",
    "      \n",
    "# Driver program to test above function \n",
    "arr = [1, 2, 6, 80, 100]\n",
    "size = len(arr)\n",
    "print (\"Maximum difference is\", \n",
    "        maxDiff(arr, size))\n",
    "  \n",
    "# This code is contributed by Swetank Modi"
   ]
  },
  {
   "cell_type": "markdown",
   "id": "bea34602-d55d-4145-b86c-53eef90b8f08",
   "metadata": {},
   "source": [
    "# The greatest decrease in losses (date and amount) over the entire period"
   ]
  },
  {
   "cell_type": "code",
   "execution_count": null,
   "id": "4f62af37-9904-44be-bcfb-77d9399b4faa",
   "metadata": {},
   "outputs": [],
   "source": []
  }
 ],
 "metadata": {
  "kernelspec": {
   "display_name": "Python 3 (ipykernel)",
   "language": "python",
   "name": "python3"
  },
  "language_info": {
   "codemirror_mode": {
    "name": "ipython",
    "version": 3
   },
   "file_extension": ".py",
   "mimetype": "text/x-python",
   "name": "python",
   "nbconvert_exporter": "python",
   "pygments_lexer": "ipython3",
   "version": "3.10.9"
  }
 },
 "nbformat": 4,
 "nbformat_minor": 5
}
